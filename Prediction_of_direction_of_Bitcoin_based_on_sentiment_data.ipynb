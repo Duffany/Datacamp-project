{
  "nbformat": 4,
  "nbformat_minor": 0,
  "metadata": {
    "kernelspec": {
      "display_name": "Python 3",
      "language": "python",
      "name": "python3"
    },
    "language_info": {
      "codemirror_mode": {
        "name": "ipython",
        "version": 3
      },
      "file_extension": ".py",
      "mimetype": "text/x-python",
      "name": "python",
      "nbconvert_exporter": "python",
      "pygments_lexer": "ipython3",
      "version": "3.7.0"
    },
    "toc": {
      "base_numbering": 1,
      "nav_menu": {},
      "number_sections": true,
      "sideBar": true,
      "skip_h1_title": false,
      "title_cell": "Table of Contents",
      "title_sidebar": "Contents",
      "toc_cell": false,
      "toc_position": {},
      "toc_section_display": true,
      "toc_window_display": false
    },
    "varInspector": {
      "cols": {
        "lenName": 16,
        "lenType": 16,
        "lenVar": 40
      },
      "kernels_config": {
        "python": {
          "delete_cmd_postfix": "",
          "delete_cmd_prefix": "del ",
          "library": "var_list.py",
          "varRefreshCmd": "print(var_dic_list())"
        },
        "r": {
          "delete_cmd_postfix": ") ",
          "delete_cmd_prefix": "rm(",
          "library": "var_list.r",
          "varRefreshCmd": "cat(var_dic_list()) "
        }
      },
      "types_to_exclude": [
        "module",
        "function",
        "builtin_function_or_method",
        "instance",
        "_Feature"
      ],
      "window_display": false
    },
    "colab": {
      "name": "Prediction of direction of Bitcoin based on sentiment data.ipynb",
      "provenance": [],
      "collapsed_sections": [],
      "toc_visible": true,
      "include_colab_link": true
    }
  },
  "cells": [
    {
      "cell_type": "markdown",
      "metadata": {
        "id": "view-in-github",
        "colab_type": "text"
      },
      "source": [
        "<a href=\"https://colab.research.google.com/github/Duffany/Datacamp-project/blob/Datacamp-project/Prediction_of_direction_of_Bitcoin_based_on_sentiment_data.ipynb\" target=\"_parent\"><img src=\"https://colab.research.google.com/assets/colab-badge.svg\" alt=\"Open In Colab\"/></a>"
      ]
    },
    {
      "cell_type": "code",
      "metadata": {
        "id": "jMyO1qho1o7i"
      },
      "source": [
        "#import libraries\n",
        "import numpy as np\n",
        "import pandas as pd\n",
        "import matplotlib.pyplot as plt\n",
        "import seaborn as sns\n",
        "\n",
        "from tqdm import tqdm\n",
        "\n",
        "from sklearn.model_selection import train_test_split, GridSearchCV\n",
        "from sklearn.linear_model import LogisticRegression, SGDClassifier\n",
        "from sklearn.ensemble import RandomForestClassifier\n",
        "from sklearn.metrics import accuracy_score, classification_report, log_loss, roc_curve, confusion_matrix\n",
        "\n",
        "import warnings\n",
        "warnings.filterwarnings('ignore')"
      ],
      "execution_count": 1,
      "outputs": []
    },
    {
      "cell_type": "markdown",
      "metadata": {
        "id": "-LU1pwikPh8v"
      },
      "source": [
        "### **Load Data**"
      ]
    },
    {
      "cell_type": "code",
      "metadata": {
        "id": "AhRMEsv01o7o"
      },
      "source": [
        "filename_x = '/content/input_training_IrTAw7w.csv'\n",
        "filename_y = '/content/output_training_F2dZW38.csv'\n",
        "\n",
        "df = pd.read_csv(filename_x).iloc[:, 1:]\n",
        "Y = pd.read_csv(filename_y).iloc[:, 1:]\n",
        "\n",
        "Y = np.argmax(np.array(Y), axis=1)"
      ],
      "execution_count": 3,
      "outputs": []
    },
    {
      "cell_type": "markdown",
      "metadata": {
        "id": "9QqMt3qIPpyj"
      },
      "source": [
        "### **Feature Engineering**"
      ]
    },
    {
      "cell_type": "code",
      "metadata": {
        "id": "8-a--zCW1o7o"
      },
      "source": [
        "def transform(df):\n",
        "\n",
        "    sentiment = get_mean_max_min_median_sentiment(df)\n",
        "    # Concatenate X1-X5 with sentiment feature\n",
        "    df = pd.concat([df.loc[:, 'X1':\"X5\"], sentiment], axis=1)\n",
        "    return df\n",
        "    \n",
        "def get_mean_max_min_median_sentiment(df):\n",
        "    \n",
        "    output = pd.DataFrame()\n",
        "    sentiment = df.loc[:, 'I1_lag0':'I10_lag47']\n",
        "    for i in tqdm(range(1, 11)):\n",
        "        col_name = \"I{}\".format(str(i))\n",
        "        start, end = col_name + \"_lag0\", col_name + \"_lag47\"\n",
        "        theme_data = sentiment.loc[:, start:end]\n",
        "        output[col_name+\"_max\"] = theme_data.max(axis=1)\n",
        "        output[col_name+\"_min\"] = theme_data.min(axis=1)\n",
        "        output[col_name+\"_mean\"] = theme_data.mean(axis=1)\n",
        "        output[col_name+\"_median\"] = theme_data.median(axis=1)\n",
        "    \n",
        "    return output"
      ],
      "execution_count": 4,
      "outputs": []
    },
    {
      "cell_type": "code",
      "metadata": {
        "colab": {
          "base_uri": "https://localhost:8080/"
        },
        "id": "2vs0J1ZR1o7p",
        "outputId": "0a499327-ce73-46b2-c438-01cce5da1659"
      },
      "source": [
        "# split data into trainning data and validation data\n",
        "x_train, x_valid, y_train, y_valid = train_test_split(transform(df), Y,  \n",
        "                                                      test_size=0.2)\n",
        "\n",
        "#loading test data\n",
        "test_filename = '/content/input_test_PkjtqdQ.csv'\n",
        "df_test = pd.read_csv(test_filename).iloc[:, 1:]\n",
        "test = transform(df_test)"
      ],
      "execution_count": 6,
      "outputs": [
        {
          "output_type": "stream",
          "text": [
            "100%|██████████| 10/10 [00:00<00:00, 45.02it/s]\n",
            "100%|██████████| 10/10 [00:00<00:00, 101.99it/s]\n"
          ],
          "name": "stderr"
        }
      ]
    },
    {
      "cell_type": "markdown",
      "metadata": {
        "id": "8vXjEZ551o7q"
      },
      "source": [
        "### **Use only X1 - X5 to train a simple logistic regression - Benchmark**"
      ]
    },
    {
      "cell_type": "code",
      "metadata": {
        "colab": {
          "base_uri": "https://localhost:8080/"
        },
        "id": "ALe4iMKx1o7r",
        "outputId": "8a1b0cc9-8b0d-4d72-acea-c5348e30126f"
      },
      "source": [
        "# remove history sentiment data\n",
        "train = df.loc[:, 'X1':\"X5\"]\n",
        "x_train, x_valid, y_train, y_valid = train_test_split(train, Y,  \n",
        "                                                      test_size=0.2)\n",
        "\n",
        "parameter_grid = {\"C\":[0.6, 0.7, 0.8, 0.9, 1]}\n",
        "simple_model = GridSearchCV(LogisticRegression(), param_grid=parameter_grid,\n",
        "                            n_jobs=-1)\n",
        "simple_model.fit(x_train, y_train)\n",
        "\n",
        "\n",
        "print(classification_report(y_valid, simple_model.predict(x_valid)))\n",
        "print(\"The accuracy on the validation set is : {:.2f}\".format(accuracy_score(y_valid, simple_model.predict(x_valid))))"
      ],
      "execution_count": 8,
      "outputs": [
        {
          "output_type": "stream",
          "text": [
            "              precision    recall  f1-score   support\n",
            "\n",
            "           0       0.34      0.24      0.28       892\n",
            "           1       0.35      0.39      0.37       983\n",
            "           2       0.39      0.46      0.42       925\n",
            "\n",
            "    accuracy                           0.36      2800\n",
            "   macro avg       0.36      0.36      0.36      2800\n",
            "weighted avg       0.36      0.36      0.36      2800\n",
            "\n",
            "The accuracy on the validation set is : 0.36\n"
          ],
          "name": "stdout"
        }
      ]
    },
    {
      "cell_type": "markdown",
      "metadata": {
        "id": "U1Vhsttv1o7r"
      },
      "source": [
        "### **Use all the sentiment data to train a regression model with L1 regularization**"
      ]
    },
    {
      "cell_type": "code",
      "metadata": {
        "colab": {
          "base_uri": "https://localhost:8080/"
        },
        "id": "3wGcTkRr1o7r",
        "outputId": "9eb8cb3b-28b9-4bda-a283-ab9a9fa54464"
      },
      "source": [
        "# get all history sentiment data\n",
        "train = df.loc[:, 'I1_lag0':'I10_lag47']\n",
        "x_train, x_valid, y_train, y_valid = train_test_split(train, Y, test_size=0.2)\n",
        "\n",
        "\n",
        "parameter_grid = {\"alpha\":[1e-2, 3e-2, 1e-1, 3e-1, 1]}\n",
        "simple_model = GridSearchCV(SGDClassifier(penalty='l1', loss='log'), \n",
        "                            param_grid=parameter_grid,\n",
        "                            n_jobs=-1)\n",
        "simple_model.fit(x_train, y_train)\n",
        "\n",
        "\n",
        "print(classification_report(y_valid, simple_model.predict(x_valid)))\n",
        "print(\"The accuracy on the validation set is : {:.2f}\".format(accuracy_score(y_valid, simple_model.predict(x_valid))))"
      ],
      "execution_count": 9,
      "outputs": [
        {
          "output_type": "stream",
          "text": [
            "              precision    recall  f1-score   support\n",
            "\n",
            "           0       0.42      0.14      0.21       901\n",
            "           1       0.36      0.68      0.47       951\n",
            "           2       0.37      0.27      0.31       948\n",
            "\n",
            "    accuracy                           0.37      2800\n",
            "   macro avg       0.38      0.36      0.33      2800\n",
            "weighted avg       0.38      0.37      0.33      2800\n",
            "\n",
            "The accuracy on the validation set is : 0.37\n"
          ],
          "name": "stdout"
        }
      ]
    },
    {
      "cell_type": "markdown",
      "metadata": {
        "id": "-_t6s3Up1o7s"
      },
      "source": [
        "### **Use X1-X5 and max, min, median, mean of sentiment data to train Logistic Regression (Score = 1.048)**"
      ]
    },
    {
      "cell_type": "code",
      "metadata": {
        "colab": {
          "base_uri": "https://localhost:8080/"
        },
        "id": "J6oifjEG1o7s",
        "outputId": "5e58c3af-3ef9-403f-f606-df87990ca99a"
      },
      "source": [
        "train = transform(df)\n",
        "x_train, x_valid, y_train, y_valid = train_test_split(train, Y, test_size=0.2)\n",
        "parameter_grid = {\"C\":[0.6, 0.7, 0.8, 0.9, 1]}\n",
        "regression = GridSearchCV(LogisticRegression(), param_grid=parameter_grid,\n",
        "                            n_jobs=-1)\n",
        "regression.fit(x_train, y_train)\n",
        "\n",
        "\n",
        "print(classification_report(y_valid, regression.predict(x_valid)))\n",
        "print(\"The accuracy on the validation set is : {:.2f}\".format(accuracy_score(y_valid, regression.predict(x_valid))))\n",
        "print(\"The loss on the validation set is : {:.2f}\".format(log_loss(y_valid, regression.predict_proba(x_valid))))"
      ],
      "execution_count": 11,
      "outputs": [
        {
          "output_type": "stream",
          "text": [
            "100%|██████████| 10/10 [00:00<00:00, 43.64it/s]\n"
          ],
          "name": "stderr"
        },
        {
          "output_type": "stream",
          "text": [
            "              precision    recall  f1-score   support\n",
            "\n",
            "           0       0.45      0.27      0.34       924\n",
            "           1       0.48      0.71      0.57       935\n",
            "           2       0.46      0.41      0.43       941\n",
            "\n",
            "    accuracy                           0.46      2800\n",
            "   macro avg       0.46      0.46      0.45      2800\n",
            "weighted avg       0.46      0.46      0.45      2800\n",
            "\n",
            "The accuracy on the validation set is : 0.46\n",
            "The loss on the validation set is : 1.03\n"
          ],
          "name": "stdout"
        }
      ]
    },
    {
      "cell_type": "code",
      "metadata": {
        "colab": {
          "base_uri": "https://localhost:8080/",
          "height": 312
        },
        "id": "ylvH8YBJ1o7t",
        "outputId": "62b7ab39-1676-4847-cf9a-471dc0b976fc"
      },
      "source": [
        "y_pred = regression.predict_proba(x_valid)\n",
        "y_pred_up_prod = y_pred[:, 2]\n",
        "\n",
        "y_true = (y_valid == 2).astype(int)\n",
        "\n",
        "fpr_lr, tpr_lr, threshold = roc_curve(y_true, y_pred_up_prod)\n",
        "\n",
        "plt.plot(fpr_lr, tpr_lr, label='logistic regression')\n",
        "plt.plot((0, 1), (0, 1), label='standard')\n",
        "plt.legend()\n",
        "plt.title(\"ROC\")\n",
        "plt.xlabel(\"false positive rate\")\n",
        "plt.ylabel(\"true positive rate\")"
      ],
      "execution_count": 12,
      "outputs": [
        {
          "output_type": "execute_result",
          "data": {
            "text/plain": [
              "Text(0, 0.5, 'true positive rate')"
            ]
          },
          "metadata": {
            "tags": []
          },
          "execution_count": 12
        },
        {
          "output_type": "display_data",
          "data": {
            "image/png": "[encoded data removed]",
            "text/plain": [
              "<Figure size 432x288 with 1 Axes>"
            ]
          },
          "metadata": {
            "tags": [],
            "needs_background": "light"
          }
        }
      ]
    },
    {
      "cell_type": "code",
      "metadata": {
        "id": "IuBYJOMYeQHo"
      },
      "source": [
        "# Predict probability of test data\n",
        "output = regression.predict_proba(test)\n",
        "output = pd.DataFrame(output, columns=['Target -1', 'Target 0', 'Target 1'])\n",
        "output.to_csv(\"/content/reg_all.csv\")"
      ],
      "execution_count": 14,
      "outputs": []
    },
    {
      "cell_type": "code",
      "metadata": {
        "colab": {
          "base_uri": "https://localhost:8080/",
          "height": 204
        },
        "id": "u4nxIRRqfT4d",
        "outputId": "231f3021-e8ed-4875-9c96-dce6f68b0d5e"
      },
      "source": [
        "output.head()"
      ],
      "execution_count": 15,
      "outputs": [
        {
          "output_type": "execute_result",
          "data": {
            "text/html": [
              "<div>\n",
              "<style scoped>\n",
              "    .dataframe tbody tr th:only-of-type {\n",
              "        vertical-align: middle;\n",
              "    }\n",
              "\n",
              "    .dataframe tbody tr th {\n",
              "        vertical-align: top;\n",
              "    }\n",
              "\n",
              "    .dataframe thead th {\n",
              "        text-align: right;\n",
              "    }\n",
              "</style>\n",
              "<table border=\"1\" class=\"dataframe\">\n",
              "  <thead>\n",
              "    <tr style=\"text-align: right;\">\n",
              "      <th></th>\n",
              "      <th>Target -1</th>\n",
              "      <th>Target 0</th>\n",
              "      <th>Target 1</th>\n",
              "    </tr>\n",
              "  </thead>\n",
              "  <tbody>\n",
              "    <tr>\n",
              "      <th>0</th>\n",
              "      <td>0.223330</td>\n",
              "      <td>0.519877</td>\n",
              "      <td>0.256793</td>\n",
              "    </tr>\n",
              "    <tr>\n",
              "      <th>1</th>\n",
              "      <td>0.250567</td>\n",
              "      <td>0.468179</td>\n",
              "      <td>0.281254</td>\n",
              "    </tr>\n",
              "    <tr>\n",
              "      <th>2</th>\n",
              "      <td>0.258569</td>\n",
              "      <td>0.456838</td>\n",
              "      <td>0.284593</td>\n",
              "    </tr>\n",
              "    <tr>\n",
              "      <th>3</th>\n",
              "      <td>0.269996</td>\n",
              "      <td>0.487020</td>\n",
              "      <td>0.242984</td>\n",
              "    </tr>\n",
              "    <tr>\n",
              "      <th>4</th>\n",
              "      <td>0.203969</td>\n",
              "      <td>0.516161</td>\n",
              "      <td>0.279870</td>\n",
              "    </tr>\n",
              "  </tbody>\n",
              "</table>\n",
              "</div>"
            ],
            "text/plain": [
              "   Target -1  Target 0  Target 1\n",
              "0   0.223330  0.519877  0.256793\n",
              "1   0.250567  0.468179  0.281254\n",
              "2   0.258569  0.456838  0.284593\n",
              "3   0.269996  0.487020  0.242984\n",
              "4   0.203969  0.516161  0.279870"
            ]
          },
          "metadata": {
            "tags": []
          },
          "execution_count": 15
        }
      ]
    },
    {
      "cell_type": "markdown",
      "metadata": {
        "id": "aL_07Zzl1o7t"
      },
      "source": [
        "### **Use X1-X5, max, min, median, mean of sentiment data to train random forest (Score = 1.044)**"
      ]
    },
    {
      "cell_type": "code",
      "metadata": {
        "colab": {
          "base_uri": "https://localhost:8080/"
        },
        "id": "mDxnPtIw1o7t",
        "outputId": "e139b23f-dc66-4a67-cc9a-be77e5d13f1b"
      },
      "source": [
        "train = transform(df)\n",
        "x_train, x_valid, y_train, y_valid = train_test_split(train, Y, test_size=0.2)\n",
        "\n",
        "parameter_grid = {\"max_depth\":[4, 8, 16, 20], \"min_samples_leaf\":[4,32,64,128]}\n",
        "simple_model = GridSearchCV(RandomForestClassifier(n_estimators=200), \n",
        "                            param_grid=parameter_grid,\n",
        "                            n_jobs=-1, cv=5)\n",
        "simple_model.fit(x_train, y_train)\n",
        "\n",
        "\n",
        "print(simple_model.best_params_)\n",
        "print(classification_report(y_valid, simple_model.predict(x_valid)))\n",
        "print(\"The accuracy on the validation set is : {:.2f}\".format(accuracy_score(y_valid, simple_model.predict(x_valid))))\n",
        "print(\"The loss on the validation set is : {:.2f}\".format(log_loss(y_valid, simple_model.predict_proba(x_valid))))"
      ],
      "execution_count": 13,
      "outputs": [
        {
          "output_type": "stream",
          "text": [
            "100%|██████████| 10/10 [00:00<00:00, 44.50it/s]\n"
          ],
          "name": "stderr"
        },
        {
          "output_type": "stream",
          "text": [
            "{'max_depth': 8, 'min_samples_leaf': 32}\n",
            "              precision    recall  f1-score   support\n",
            "\n",
            "           0       0.40      0.22      0.29       915\n",
            "           1       0.49      0.66      0.56       953\n",
            "           2       0.41      0.44      0.42       932\n",
            "\n",
            "    accuracy                           0.45      2800\n",
            "   macro avg       0.43      0.44      0.42      2800\n",
            "weighted avg       0.43      0.45      0.43      2800\n",
            "\n",
            "The accuracy on the validation set is : 0.45\n",
            "The loss on the validation set is : 1.03\n"
          ],
          "name": "stdout"
        }
      ]
    },
    {
      "cell_type": "code",
      "metadata": {
        "colab": {
          "base_uri": "https://localhost:8080/",
          "height": 312
        },
        "id": "XwOjWISu1o7u",
        "outputId": "424ce580-ae76-46ef-b145-77db7e91ce32"
      },
      "source": [
        "y_pred = simple_model.predict_proba(x_valid)\n",
        "y_pred_up_prod = y_pred[:, 2]\n",
        "\n",
        "y_true = (y_valid == 2).astype(int)\n",
        "\n",
        "fpr_rf, tpr_rf, threshold = roc_curve(y_true, y_pred_up_prod)\n",
        "\n",
        "plt.plot(fpr_rf, tpr_rf, label='random forest')\n",
        "plt.plot((0, 1), (0, 1), label='standard')\n",
        "plt.legend()\n",
        "plt.title(\"ROC\")\n",
        "plt.xlabel(\"false positive rate\")\n",
        "plt.ylabel(\"true positive rate\")\n"
      ],
      "execution_count": 16,
      "outputs": [
        {
          "output_type": "execute_result",
          "data": {
            "text/plain": [
              "Text(0, 0.5, 'true positive rate')"
            ]
          },
          "metadata": {
            "tags": []
          },
          "execution_count": 16
        },
        {
          "output_type": "display_data",
          "data": {
            "image/png": "[encoded data removed]",
            "text/plain": [
              "<Figure size 432x288 with 1 Axes>"
            ]
          },
          "metadata": {
            "tags": [],
            "needs_background": "light"
          }
        }
      ]
    },
    {
      "cell_type": "code",
      "metadata": {
        "colab": {
          "base_uri": "https://localhost:8080/"
        },
        "id": "7uedAxHJ1o7u",
        "outputId": "cc7f7a9c-e9d2-4f4b-c1d1-9cf66ae1e054"
      },
      "source": [
        "feature_importance = simple_model.best_estimator_.feature_importances_\n",
        "feature_importance = pd.Series(feature_importance, x_train.columns)\n",
        "feature_importance.sort_values().tail(20)"
      ],
      "execution_count": 17,
      "outputs": [
        {
          "output_type": "execute_result",
          "data": {
            "text/plain": [
              "I2_max       0.019673\n",
              "X4           0.019776\n",
              "X2           0.019829\n",
              "I7_median    0.021021\n",
              "I5_min       0.021110\n",
              "I3_min       0.021116\n",
              "I3_max       0.022047\n",
              "I4_max       0.023121\n",
              "I4_min       0.026793\n",
              "X1           0.030863\n",
              "I8_min       0.034031\n",
              "I7_min       0.034604\n",
              "I1_min       0.036065\n",
              "I6_max       0.040403\n",
              "I1_max       0.042430\n",
              "I10_min      0.053126\n",
              "I9_min       0.053842\n",
              "I10_max      0.068018\n",
              "I7_max       0.079819\n",
              "I9_max       0.092657\n",
              "dtype: float64"
            ]
          },
          "metadata": {
            "tags": []
          },
          "execution_count": 17
        }
      ]
    },
    {
      "cell_type": "code",
      "metadata": {
        "id": "61n6lRKT1o7u"
      },
      "source": [
        "# Predict probability of test data\n",
        "output = simple_model.predict_proba(test)\n",
        "output = pd.DataFrame(output, columns=['Target -1', 'Target 0', 'Target 1'])\n",
        "output.to_csv(\"/content/sub.csv\")"
      ],
      "execution_count": 18,
      "outputs": []
    },
    {
      "cell_type": "code",
      "metadata": {
        "colab": {
          "base_uri": "https://localhost:8080/",
          "height": 204
        },
        "id": "FrIKQw_PHxqD",
        "outputId": "66eaa702-6d2e-434e-ae6c-eaf515dc7d08"
      },
      "source": [
        "output.head()"
      ],
      "execution_count": 19,
      "outputs": [
        {
          "output_type": "execute_result",
          "data": {
            "text/html": [
              "<div>\n",
              "<style scoped>\n",
              "    .dataframe tbody tr th:only-of-type {\n",
              "        vertical-align: middle;\n",
              "    }\n",
              "\n",
              "    .dataframe tbody tr th {\n",
              "        vertical-align: top;\n",
              "    }\n",
              "\n",
              "    .dataframe thead th {\n",
              "        text-align: right;\n",
              "    }\n",
              "</style>\n",
              "<table border=\"1\" class=\"dataframe\">\n",
              "  <thead>\n",
              "    <tr style=\"text-align: right;\">\n",
              "      <th></th>\n",
              "      <th>Target -1</th>\n",
              "      <th>Target 0</th>\n",
              "      <th>Target 1</th>\n",
              "    </tr>\n",
              "  </thead>\n",
              "  <tbody>\n",
              "    <tr>\n",
              "      <th>0</th>\n",
              "      <td>0.234832</td>\n",
              "      <td>0.492358</td>\n",
              "      <td>0.272810</td>\n",
              "    </tr>\n",
              "    <tr>\n",
              "      <th>1</th>\n",
              "      <td>0.296338</td>\n",
              "      <td>0.414266</td>\n",
              "      <td>0.289396</td>\n",
              "    </tr>\n",
              "    <tr>\n",
              "      <th>2</th>\n",
              "      <td>0.273591</td>\n",
              "      <td>0.444620</td>\n",
              "      <td>0.281789</td>\n",
              "    </tr>\n",
              "    <tr>\n",
              "      <th>3</th>\n",
              "      <td>0.260060</td>\n",
              "      <td>0.528017</td>\n",
              "      <td>0.211924</td>\n",
              "    </tr>\n",
              "    <tr>\n",
              "      <th>4</th>\n",
              "      <td>0.156013</td>\n",
              "      <td>0.723544</td>\n",
              "      <td>0.120443</td>\n",
              "    </tr>\n",
              "  </tbody>\n",
              "</table>\n",
              "</div>"
            ],
            "text/plain": [
              "   Target -1  Target 0  Target 1\n",
              "0   0.234832  0.492358  0.272810\n",
              "1   0.296338  0.414266  0.289396\n",
              "2   0.273591  0.444620  0.281789\n",
              "3   0.260060  0.528017  0.211924\n",
              "4   0.156013  0.723544  0.120443"
            ]
          },
          "metadata": {
            "tags": []
          },
          "execution_count": 19
        }
      ]
    },
    {
      "cell_type": "markdown",
      "metadata": {
        "id": "cIMCMtcE1o7v"
      },
      "source": [
        "### **Select features then train again a Random Forest**"
      ]
    },
    {
      "cell_type": "code",
      "metadata": {
        "colab": {
          "base_uri": "https://localhost:8080/"
        },
        "id": "-sIU2DBx1o7v",
        "outputId": "12002891-9864-4649-a7da-69eb379f76e0"
      },
      "source": [
        "selected_features = feature_importance.sort_values().tail(20).index\n",
        "\n",
        "train_selected = train[selected_features]\n",
        "\n",
        "x_train_selected, x_valid_selected, y_train, y_valid = train_test_split(train_selected, Y, test_size=0.2)\n",
        "\n",
        "\n",
        "parameter_grid = {\"max_depth\":[2, 4, 8, 16, 20], \"min_samples_leaf\":[16,32,64]}\n",
        "decision_tree = GridSearchCV(RandomForestClassifier(n_estimators=200), \n",
        "                            param_grid=parameter_grid,\n",
        "                            n_jobs=-1, cv=5)\n",
        "decision_tree.fit(x_train_selected, y_train)\n",
        "\n",
        "\n",
        "print(decision_tree.best_params_)\n",
        "print(classification_report(y_valid, decision_tree.predict(x_valid_selected)))\n",
        "print(\"The accuracy on the validation set is : {:.2f}\".format(accuracy_score(y_valid, decision_tree.predict(x_valid_selected))))\n",
        "print(\"The loss on the validation set is : {:.2f}\".format(log_loss(y_valid, decision_tree.predict_proba(x_valid_selected))))"
      ],
      "execution_count": 21,
      "outputs": [
        {
          "output_type": "stream",
          "text": [
            "{'max_depth': 20, 'min_samples_leaf': 64}\n",
            "              precision    recall  f1-score   support\n",
            "\n",
            "           0       0.37      0.25      0.30       881\n",
            "           1       0.50      0.66      0.57       966\n",
            "           2       0.44      0.42      0.43       953\n",
            "\n",
            "    accuracy                           0.45      2800\n",
            "   macro avg       0.44      0.45      0.43      2800\n",
            "weighted avg       0.44      0.45      0.44      2800\n",
            "\n",
            "The accuracy on the validation set is : 0.45\n",
            "The loss on the validation set is : 1.03\n"
          ],
          "name": "stdout"
        }
      ]
    },
    {
      "cell_type": "code",
      "metadata": {
        "colab": {
          "base_uri": "https://localhost:8080/",
          "height": 312
        },
        "id": "6BtBzcOFYEy3",
        "outputId": "665fab56-96a2-4266-ca0f-b3640efd47c9"
      },
      "source": [
        "y_pred = decision_tree.predict_proba(x_valid_selected)\n",
        "y_pred_up_prod = y_pred[:, 2]\n",
        "\n",
        "y_true = (y_valid == 2).astype(int)\n",
        "\n",
        "fpr_rf_sf, tpr_rf_sf, threshold = roc_curve(y_true, y_pred_up_prod)\n",
        "\n",
        "plt.plot(fpr_rf_sf, tpr_rf_sf, label='random forest with selected features')\n",
        "plt.plot((0, 1), (0, 1), label='standard')\n",
        "plt.legend()\n",
        "plt.title(\"ROC\")\n",
        "plt.xlabel(\"false positive rate\")\n",
        "plt.ylabel(\"true positive rate\")"
      ],
      "execution_count": 22,
      "outputs": [
        {
          "output_type": "execute_result",
          "data": {
            "text/plain": [
              "Text(0, 0.5, 'true positive rate')"
            ]
          },
          "metadata": {
            "tags": []
          },
          "execution_count": 22
        },
        {
          "output_type": "display_data",
          "data": {
            "image/png": "[encoded data removed]",
            "text/plain": [
              "<Figure size 432x288 with 1 Axes>"
            ]
          },
          "metadata": {
            "tags": [],
            "needs_background": "light"
          }
        }
      ]
    },
    {
      "cell_type": "code",
      "metadata": {
        "id": "CQxg2ZJXhMnu"
      },
      "source": [
        "# Predict probability of test data\n",
        "test_selected = test[selected_features]\n",
        "output = decision_tree.predict_proba(test_selected)\n",
        "output = pd.DataFrame(output, columns=['Target -1', 'Target 0', 'Target 1'])\n",
        "output.to_csv(\"/content/rf_sf.csv\")"
      ],
      "execution_count": 25,
      "outputs": []
    },
    {
      "cell_type": "markdown",
      "metadata": {
        "id": "llI1Ra7P1o7v"
      },
      "source": [
        "### **Model Comparison**"
      ]
    },
    {
      "cell_type": "code",
      "metadata": {
        "colab": {
          "base_uri": "https://localhost:8080/",
          "height": 367
        },
        "id": "k4wG8l2q1o7v",
        "outputId": "33d0ef52-7335-4c9d-ed7d-ea8d00a5e8ae"
      },
      "source": [
        "plt.figure(figsize=(10,5))\n",
        "plt.plot(fpr_rf_sf, tpr_rf_sf, label='random forest with selected features')\n",
        "plt.plot(fpr_lr, tpr_lr, label='logistic regression')\n",
        "plt.plot(fpr_rf, tpr_rf, label='random forest')\n",
        "plt.plot((0, 1), (0, 1), label='standard')\n",
        "plt.legend()\n",
        "plt.title(\"ROC for positive return\")\n",
        "plt.xlabel(\"false positive rate\")\n",
        "plt.ylabel(\"true positive rate\")\n"
      ],
      "execution_count": 23,
      "outputs": [
        {
          "output_type": "execute_result",
          "data": {
            "text/plain": [
              "Text(0, 0.5, 'true positive rate')"
            ]
          },
          "metadata": {
            "tags": []
          },
          "execution_count": 23
        },
        {
          "output_type": "display_data",
          "data": {
            "image/png": "[encoded data removed]",
            "text/plain": [
              "<Figure size 720x360 with 1 Axes>"
            ]
          },
          "metadata": {
            "tags": [],
            "needs_background": "light"
          }
        }
      ]
    },
    {
      "cell_type": "code",
      "metadata": {
        "colab": {
          "base_uri": "https://localhost:8080/",
          "height": 298
        },
        "id": "9z1F6WHw1o7w",
        "outputId": "c32d736b-bcd4-46c0-b4f9-1b43a045f3ab"
      },
      "source": [
        "y_pred_lr = regression.predict(x_valid)\n",
        "y_pred_rf = simple_model.predict(x_valid)\n",
        "\n",
        "confu_mat_lr = confusion_matrix(y_valid, y_pred_lr)\n",
        "confu_mat_rf = confusion_matrix(y_valid, y_pred_rf)\n",
        "\n",
        "confu_mat_lr = confu_mat_lr/confu_mat_lr.sum(axis=1)\n",
        "confu_mat_rf = confu_mat_rf/confu_mat_rf.sum(axis=1)\n",
        "\n",
        "confu_mat_lr = pd.DataFrame(confu_mat_lr, \n",
        "                            index=['true -1', 'true 0', 'true 1'],\n",
        "                           columns=['predict -1', 'predict 0', 'predict 1'])\n",
        "confu_mat_rf = pd.DataFrame(confu_mat_rf, \n",
        "                            index=['true -1', 'true 0', 'true 1'],\n",
        "                           columns=['predict -1', 'predict 0', 'predict 1'])\n",
        "\n",
        "\n",
        "f=plt.figure(figsize=(14,4))\n",
        "\n",
        "f.add_subplot(1,2,1)\n",
        "ax = sns.heatmap(confu_mat_lr, annot=True, fmt=\".2f\",\n",
        "           linewidth=0.5)\n",
        "ax.set_title(\"Confusion Matrix of Logistic Regression\")\n",
        "\n",
        "f.add_subplot(1,2,2)\n",
        "ax = sns.heatmap(confu_mat_rf, annot=True, fmt=\".2f\",\n",
        "           linewidth=0.5)\n",
        "ax.set_title(\"Confusion Matrix of Random Forest\")"
      ],
      "execution_count": 27,
      "outputs": [
        {
          "output_type": "execute_result",
          "data": {
            "text/plain": [
              "Text(0.5, 1.0, 'Confusion Matrix of Random Forest')"
            ]
          },
          "metadata": {
            "tags": []
          },
          "execution_count": 27
        },
        {
          "output_type": "display_data",
          "data": {
            "image/png": "[encoded data removed]",
            "text/plain": [
              "<Figure size 1008x288 with 4 Axes>"
            ]
          },
          "metadata": {
            "tags": [],
            "needs_background": "light"
          }
        }
      ]
    },
    {
      "cell_type": "markdown",
      "metadata": {
        "id": "NcGwkyUv1o7x"
      },
      "source": [
        "### **Pipeline (still in progress)**"
      ]
    },
    {
      "cell_type": "code",
      "metadata": {
        "colab": {
          "base_uri": "https://localhost:8080/",
          "height": 232
        },
        "id": "Mr6xvhja1o7x",
        "outputId": "e00272ab-e00d-4470-994f-0292ef859cef"
      },
      "source": [
        "from sklearn.base import TransformerMixin, BaseEstimator\n",
        "\n",
        "\n",
        "def transform(df):\n",
        "    \n",
        "    sentiment = get_mean_max_min_median_sentiment(df)\n",
        "    # Concatenate X1-X5 with sentiment feature\n",
        "    df = pd.concat([df.loc[:, 'X1':\"X5\"], sentiment], axis=1)\n",
        "    return df\n",
        "    \n",
        "#only trained on sentiment data\n",
        "class SimpleSentimentModel(TransformerMixin, BaseEstimator):\n",
        "    \n",
        "    def __init__(self):\n",
        "        self.model = None\n",
        "    \n",
        "    def transform(self, df):\n",
        "        sentiment_col_mask = df.columns.str.match(\"I.+\")\n",
        "        sentiment_col_name = df.columns[sentiment_col_mask]\n",
        "        sentiment_features = df[sentiment_col_name]\n",
        "        return sentiment_features\n",
        "    \n",
        "    def fit(self, df, y):\n",
        "        sentiment_features = self.transform(df)\n",
        "\n",
        "        parameter_grid = {\"max_depth\":[4, 8, 16, 20], \"min_samples_leaf\":[4,32,64,128]}\n",
        "        self.model = GridSearchCV(RandomForestClassifier(n_estimators=100), \n",
        "                                    param_grid=parameter_grid,\n",
        "                                    n_jobs=-1)\n",
        "        self.model.fit(sentiment_features, y)\n",
        "        \n",
        "    def predict(self, df):\n",
        "        sentiment_features = self.transform(df)\n",
        "        simple_sentiment_output = self.model.predict_proba(sentiment_features)\n",
        "        return simple_sentiment_output\n",
        "    \n",
        "    def fit_predict(self, df, y):\n",
        "        sentiment_features = self.transform(df)\n",
        "\n",
        "        parameter_grid = {\"max_depth\":[4, 8, 16, 20], \"min_samples_leaf\":[4,32,64,128]}\n",
        "        self.model = GridSearchCV(RandomForestClassifier(n_estimators=100), \n",
        "                                    param_grid=parameter_grid,\n",
        "                                    n_jobs=-1)\n",
        "        self.model.fit(sentiment_features, y)\n",
        "        return self.model.predict_proba(sentiment_features)\n",
        "        \n",
        "    \n",
        "    \n",
        "#only trained on price return data\n",
        "class SimpleReturnModel(TransformerMixin, BaseEstimator):\n",
        "    \n",
        "    def __init__(self):\n",
        "        self.model = None\n",
        "    \n",
        "    def transform(self, df):\n",
        "        return_col_name = df.columns[df.columns.str.match('X.+')]\n",
        "        return_features = df[return_col_name]\n",
        "        return return_features\n",
        "    \n",
        "    def fit(self, df, y):\n",
        "        return_features = self.transform(df)\n",
        "\n",
        "        parameter_grid = {\"C\":[0.6, 0.7, 0.8, 0.9, 1]}\n",
        "        self.model = GridSearchCV(LogisticRegression(), param_grid=parameter_grid,\n",
        "                                n_jobs=-1)\n",
        "        self.model.fit(return_features, y)\n",
        "        \n",
        "    def predict(self, df):\n",
        "        return_features = self.transform(df)\n",
        "        simple_return_output = self.model.predict_proba(return_features)\n",
        "        return simple_return_output\n",
        "    \n",
        "    def fit_predict(self, df, y):\n",
        "        return_features = self.transform(df)\n",
        "\n",
        "        parameter_grid = {\"max_depth\":[4, 8, 16, 20], \"min_samples_leaf\":[4,32,64,128]}\n",
        "        self.model = GridSearchCV(RandomForestClassifier(n_estimators=100), \n",
        "                                    param_grid=parameter_grid,\n",
        "                                    n_jobs=-1)\n",
        "        self.model.fit(return_features, y)\n",
        "        return self.model.predict_proba(return_features)\n",
        "\n",
        "\n",
        "x_train, x_valid, y_train, y_valid = train_test_split(df, Y,  \n",
        "                                                      test_size=0.3)\n",
        "    \n",
        "prediction_pipeline, final_lr_model = SimpleReturnModel(x_train, y_train)\n",
        "\n",
        "\n",
        "y_pred =  np.argmax(prediction_pipeline(x_valid), axis=1)\n",
        "print(classification_report(y_valid, y_pred))\n",
        "print(accuracy_score(y_valid,y_pred))\n",
        "print(log_loss(y_valid, prediction_pipeline(x_valid)))\n",
        "    \n",
        "    \n"
      ],
      "execution_count": 28,
      "outputs": [
        {
          "output_type": "error",
          "ename": "TypeError",
          "evalue": "ignored",
          "traceback": [
            "\u001b[0;31m---------------------------------------------------------------------------\u001b[0m",
            "\u001b[0;31mTypeError\u001b[0m                                 Traceback (most recent call last)",
            "\u001b[0;32m<ipython-input-28-d10d922bca6c>\u001b[0m in \u001b[0;36m<module>\u001b[0;34m()\u001b[0m\n\u001b[1;32m     85\u001b[0m                                                       test_size=0.3)\n\u001b[1;32m     86\u001b[0m \u001b[0;34m\u001b[0m\u001b[0m\n\u001b[0;32m---> 87\u001b[0;31m \u001b[0mprediction_pipeline\u001b[0m\u001b[0;34m,\u001b[0m \u001b[0mfinal_lr_model\u001b[0m \u001b[0;34m=\u001b[0m \u001b[0mSimpleReturnModel\u001b[0m\u001b[0;34m(\u001b[0m\u001b[0mx_train\u001b[0m\u001b[0;34m,\u001b[0m \u001b[0my_train\u001b[0m\u001b[0;34m)\u001b[0m\u001b[0;34m\u001b[0m\u001b[0;34m\u001b[0m\u001b[0m\n\u001b[0m\u001b[1;32m     88\u001b[0m \u001b[0;34m\u001b[0m\u001b[0m\n\u001b[1;32m     89\u001b[0m \u001b[0;34m\u001b[0m\u001b[0m\n",
            "\u001b[0;31mTypeError\u001b[0m: __init__() takes 1 positional argument but 3 were given"
          ]
        }
      ]
    },
    {
      "cell_type": "code",
      "metadata": {
        "id": "G11pv0gY1o7x",
        "outputId": "8b52854f-18e9-4d83-8608-23cb8943c2f0"
      },
      "source": [
        "test_filename = '/content/input_test_PkjtqdQ.csv'\n",
        "test = pd.read_csv(test_filename).iloc[:, 1:]\n",
        "\n",
        "output = prediction_pipeline(test)\n",
        "output = pd.DataFrame(output, columns=['Target -1', 'Target 0', 'Target 1'])\n",
        "output.to_csv(\"./output_data/lr_sentiment_stack_model.csv\")"
      ],
      "execution_count": null,
      "outputs": [
        {
          "output_type": "stream",
          "text": [
            "100%|██████████████████████████████████████████| 10/10 [00:33<00:00,  3.36s/it]\n"
          ],
          "name": "stderr"
        }
      ]
    }
  ]
}